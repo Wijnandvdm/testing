{
 "cells": [
  {
   "cell_type": "markdown",
   "metadata": {},
   "source": [
    "Data Community Day"
   ]
  },
  {
   "cell_type": "code",
   "execution_count": null,
   "metadata": {},
   "outputs": [],
   "source": [
    "import pandas as pd\n",
    "\n",
    "# read csv and write to parquet\n",
    "import pandas as pd\n",
    "filename = 'example'\n",
    "df = pd.read_csv(f'data/{filename}.csv', delimiter = \";\")\n",
    "df.to_parquet(f'data/{filename}.parquet')"
   ]
  },
  {
   "cell_type": "code",
   "execution_count": null,
   "metadata": {},
   "outputs": [],
   "source": [
    "import pandas as pd\n",
    "\n",
    "# check parquet file\n",
    "filename = 'EXPORT_JUMBO_PMTECH.parquet'\n",
    "df = pd.read_parquet(f'data/{filename}', engine='pyarrow')\n",
    "df"
   ]
  },
  {
   "cell_type": "code",
   "execution_count": null,
   "metadata": {},
   "outputs": [],
   "source": [
    "presentatie = 0.25*3\n",
    "uitwerking_requirements = 0.25*2\n",
    "tech_realisatie = 0.3*4\n",
    "kwali_proces = 0.075*3\n",
    "kwali_code = 0.075*3\n",
    "kwali_test = 0.05*1\n",
    "total_score = presentatie + uitwerking_requirements + tech_realisatie + kwali_proces + kwali_code + kwali_test\n",
    "print(total_score)"
   ]
  },
  {
   "cell_type": "code",
   "execution_count": null,
   "metadata": {},
   "outputs": [],
   "source": [
    "import uuid\n",
    "\n",
    "# Convert a UUID to a string of hex digits in standard form\n",
    "str(uuid.uuid4())"
   ]
  }
 ],
 "metadata": {
  "kernelspec": {
   "display_name": "Python 3.8.8 ('base')",
   "language": "python",
   "name": "python3"
  },
  "language_info": {
   "codemirror_mode": {
    "name": "ipython",
    "version": 3
   },
   "file_extension": ".py",
   "mimetype": "text/x-python",
   "name": "python",
   "nbconvert_exporter": "python",
   "pygments_lexer": "ipython3",
   "version": "3.8.8"
  },
  "orig_nbformat": 4,
  "vscode": {
   "interpreter": {
    "hash": "52cc80efd2ac001e4e8ee5e3752da397c6728083f332f14904fd4dd07b84fff9"
   }
  }
 },
 "nbformat": 4,
 "nbformat_minor": 2
}
